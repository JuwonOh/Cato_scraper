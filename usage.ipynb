{
 "cells": [
  {
   "cell_type": "code",
   "execution_count": 1,
   "metadata": {
    "scrolled": false
   },
   "outputs": [
    {
     "name": "stdout",
     "output_type": "stream",
     "text": [
      "get briefing statement urls 0 / 3\n",
      "get briefing statement urls 1 / 3\n",
      "get briefing statement urls 2 / 3\n",
      "get briefing statement urls 3 / 3\n",
      "100 urls for all news\n"
     ]
    }
   ],
   "source": [
    "import time\n",
    "import Cato_scraper\n",
    "from Cato_scraper import get_allnews_urls\n",
    "from Cato_scraper import parse_page\n",
    "\n",
    "urls = get_allnews_urls(begin_page=0, end_page=3, verbose=True)\n",
    "print('%d urls for all news' % len(urls))\n"
   ]
  },
  {
   "cell_type": "code",
   "execution_count": 2,
   "metadata": {
    "scrolled": true
   },
   "outputs": [
    {
     "name": "stdout",
     "output_type": "stream",
     "text": [
      "title : Temporary Protected Status and Immigration to the United States ..\n",
      "time : January 23, 2019 ..\n",
      "author : David Leblang, Benjamin Helms, Alexa Iadarola, Ankita Satpathy, Kelsey Hunt, Rebecca Brough, Eric Xu ..\n",
      "content : \n",
      "Discussions of immigration policy and reform in the United\n",
      "States over the last 40 years almost alw ..\n",
      "url : https://www.cato.org/publications/research-briefs-economic-policy/temporary-protected-status-immigra ..\n",
      "scrap_time : 2019-01-28 06:18:46 ..\n",
      "\n",
      "\n",
      "title : How ‘Market Failure’ Arguments Lead to Misguided Policy ..\n",
      "time : January 22, 2019 ..\n",
      "author : Ryan Bourne ..\n",
      "content : \n",
      "“Market failure” is a common justification for new\n",
      "government policies. Proponents of interventions ..\n",
      "url : https://www.cato.org/publications/policy-analysis/how-market-failure-arguments-lead-misguided-policy ..\n",
      "scrap_time : 2019-01-28 06:18:46 ..\n",
      "\n",
      "\n",
      "title : Do 40-Year-Old Facts Still Matter?: Long-Run Effects of Federal Oversight under the Voting Rights Ac ..\n",
      "time : January 16, 2019 ..\n",
      "author : Desmond Ang ..\n",
      "content : \n",
      "The Voting Rights Act (VRA) of 1965 has been hailed as one of\n",
      "the “greatest legislative achievement ..\n",
      "url : https://www.cato.org/publications/research-briefs-economic-policy/do-40-year-old-facts-still-matter- ..\n",
      "scrap_time : 2019-01-28 06:18:46 ..\n",
      "\n",
      "\n"
     ]
    }
   ],
   "source": [
    "def pprint(json_object):\n",
    "    for k, v in json_object.items():\n",
    "        print('{} : {} ..'.format(k, str(v)[:100]))\n",
    "    print('\\n')\n",
    "\n",
    "SLEEP = 0.5\n",
    "\n",
    "for url in urls[:3]:\n",
    "    json_object = parse_page(url) \n",
    "    pprint(json_object)\n"
   ]
  },
  {
   "cell_type": "code",
   "execution_count": 4,
   "metadata": {},
   "outputs": [
    {
     "name": "stdout",
     "output_type": "stream",
     "text": [
      "[1 / 10] (January 23, 2019) Temporary Protected Status and Immigration to the United States\n",
      "[2 / 10] (January 22, 2019) How ‘Market Failure’ Arguments Lead to Misguided Policy\n",
      "[3 / 10] (January 16, 2019) Do 40-Year-Old Facts Still Matter?: Long-Run Effects of Federal Oversight under the Voting Rights Act\n",
      "[4 / 10] (January 15, 2019) Do Immigrants Import Terrorism?\n",
      "[5 / 10] (January 15, 2019) The Myth of the Cyber Offense: The Case for Restraint\n",
      "[6 / 10] (January 9, 2019) More Legislation, More Violence? The Impact of Dodd-Frank in the Democratic Republic of the Congo\n",
      "[7 / 10] (January 8, 2019) The Case for an Immigration Tariff: How to Create a Price-Based Visa Category\n",
      "[8 / 10] (January 2, 2019) The Spread of Deposit Insurance and the Global Rise in Bank Asset Risk since the 1970s\n",
      "[9 / 10] (December 19, 2018) How Legalizing Marijuana Is  Securing the Border: The Border Wall, Drug Smuggling, and Lessons for Immigration Policy\n",
      "[10 / 10] (December 19, 2018) Militarization Fails to Enhance Police Safety or Reduce Crime but May Harm Police Reputation\n"
     ]
    }
   ],
   "source": [
    "from Cato_scraper import yield_latest_allnews\n",
    "\n",
    "begin_date = '2018-07-01'\n",
    "max_num = 10\n",
    "sleep = 1.0\n",
    "\n",
    "for i, json_obj in enumerate(yield_latest_allnews(begin_date, max_num, sleep)):\n",
    "    title = json_obj['title']\n",
    "    time = json_obj['time']\n",
    "    print('[{} / {}] ({}) {}'.format(i+1, max_num, time, title))"
   ]
  }
 ],
 "metadata": {
  "kernelspec": {
   "display_name": "Python 3",
   "language": "python",
   "name": "python3"
  },
  "language_info": {
   "codemirror_mode": {
    "name": "ipython",
    "version": 3
   },
   "file_extension": ".py",
   "mimetype": "text/x-python",
   "name": "python",
   "nbconvert_exporter": "python",
   "pygments_lexer": "ipython3",
   "version": "3.6.5"
  },
  "varInspector": {
   "cols": {
    "lenName": 16,
    "lenType": 16,
    "lenVar": 40
   },
   "kernels_config": {
    "python": {
     "delete_cmd_postfix": "",
     "delete_cmd_prefix": "del ",
     "library": "var_list.py",
     "varRefreshCmd": "print(var_dic_list())"
    },
    "r": {
     "delete_cmd_postfix": ") ",
     "delete_cmd_prefix": "rm(",
     "library": "var_list.r",
     "varRefreshCmd": "cat(var_dic_list()) "
    }
   },
   "types_to_exclude": [
    "module",
    "function",
    "builtin_function_or_method",
    "instance",
    "_Feature"
   ],
   "window_display": true
  }
 },
 "nbformat": 4,
 "nbformat_minor": 2
}
