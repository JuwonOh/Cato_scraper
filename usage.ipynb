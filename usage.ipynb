{
 "cells": [
  {
   "cell_type": "code",
   "execution_count": 1,
   "metadata": {
    "scrolled": false
   },
   "outputs": [
    {
     "name": "stdout",
     "output_type": "stream",
     "text": [
      "get briefing statement urls 1 / 3\n",
      "get briefing statement urls 2 / 3\n",
      "get briefing statement urls 3 / 3\n",
      "75 urls for all news\n",
      "3 urls for all news\n"
     ]
    }
   ],
   "source": [
    "import time\n",
    "import Cato_scraper\n",
    "from Cato_scraper import get_allnews_2018urls\n",
    "from Cato_scraper import get_allnews_2019urls\n",
    "from Cato_scraper import parse_page\n",
    "\n",
    "urls_2018 = get_allnews_2018urls(begin_page=1, end_page=3, verbose=True)\n",
    "print('%d urls for all news' % len(urls_2018))\n",
    "\n",
    "urls_2019 = get_allnews_2019urls(verbose=True)\n",
    "print('%d urls for all news' % len(urls_2019))"
   ]
  },
  {
   "cell_type": "code",
   "execution_count": 4,
   "metadata": {},
   "outputs": [
    {
     "name": "stdout",
     "output_type": "stream",
     "text": [
      "title : <h1 class=\"page-h1\" data-swiftype-name=\"title\" data-swiftype-type=\"string\">The Grass Is Greener on t ..\n",
      "time : \n",
      "October 10, 2018  ..\n",
      "content : \n",
      "Recreational marijuana will soon be available to nearly one in\n",
      "four U.S. residents. The potential f ..\n",
      "url : https://www.cato.org/publications/research-briefs-economic-policy/grass-greener-other-side-how-exten ..\n",
      "scrap_time : 2019-01-14 05:06:22 ..\n",
      "\n",
      "\n",
      "title : <h1 class=\"page-h1\" data-swiftype-name=\"title\" data-swiftype-type=\"string\">Fiscal Policy Report Card ..\n",
      "time : \n",
      "October 9, 2018  ..\n",
      "content : \n",
      "The U.S. economy is in its 10th year of economic expansion, and\n",
      "state government budgets are benefi ..\n",
      "url : https://www.cato.org/publications/white-paper/fiscal-policy-report-card-americas-governors-2018 ..\n",
      "scrap_time : 2019-01-14 05:06:22 ..\n",
      "\n",
      "\n",
      "title : <h1 class=\"page-h1\" data-swiftype-name=\"title\" data-swiftype-type=\"string\">Immigrant Wages Converge  ..\n",
      "time : \n",
      "October 4, 2018  ..\n",
      "content : \n",
      "The degree and speed at which immigrant wages converge with the\n",
      "wages of native-born Americans are  ..\n",
      "url : https://www.cato.org/publications/immigration-research-policy-brief/immigrant-wages-converge-those-n ..\n",
      "scrap_time : 2019-01-14 05:06:22 ..\n",
      "\n",
      "\n",
      "title : <h1 class=\"page-h1\" data-swiftype-name=\"title\" data-swiftype-type=\"string\">More Legislation, More Vi ..\n",
      "time : \n",
      "January 9, 2019  ..\n",
      "content : \n",
      "For many countries, natural resources are a curse rather than a\n",
      "blessing. In the Democratic Republi ..\n",
      "url : https://www.cato.org/publications/research-briefs-economic-policy/more-legislation-more-violence-imp ..\n",
      "scrap_time : 2019-01-14 05:06:23 ..\n",
      "\n",
      "\n",
      "title : <h1 class=\"page-h1\" data-swiftype-name=\"title\" data-swiftype-type=\"string\">The Case for an Immigrati ..\n",
      "time : \n",
      "January 8, 2019  ..\n",
      "content : \n",
      "The current U.S. immigration system favors non-economic immigrants. About 81 percent of new immigra ..\n",
      "url : https://www.cato.org/publications/policy-analysis/case-immigration-tariff-how-create-price-based-vis ..\n",
      "scrap_time : 2019-01-14 05:06:23 ..\n",
      "\n",
      "\n",
      "title : <h1 class=\"page-h1\" data-swiftype-name=\"title\" data-swiftype-type=\"string\">The Spread of Deposit Ins ..\n",
      "time : \n",
      "January 2, 2019  ..\n",
      "content : \n",
      "For the past three decades, a vast amount of literature has\n",
      "developed on the adoption and expansion ..\n",
      "url : https://www.cato.org/publications/research-briefs-economic-policy/spread-deposit-insurance-global-ri ..\n",
      "scrap_time : 2019-01-14 05:06:23 ..\n",
      "\n",
      "\n"
     ]
    }
   ],
   "source": [
    "def pprint(json_object):\n",
    "    for k, v in json_object.items():\n",
    "        print('{} : {} ..'.format(k, str(v)[:100]))\n",
    "    print('\\n')\n",
    "\n",
    "SLEEP = 0.5\n",
    "\n",
    "for url in urls_2018[:3]:\n",
    "    json_object = parse_page(url) \n",
    "    pprint(json_object)\n",
    "\n",
    "for url in urls_2019[:3]:\n",
    "    json_object = parse_page(url) \n",
    "    pprint(json_object)"
   ]
  }
 ],
 "metadata": {
  "kernelspec": {
   "display_name": "Python 3",
   "language": "python",
   "name": "python3"
  },
  "language_info": {
   "codemirror_mode": {
    "name": "ipython",
    "version": 3
   },
   "file_extension": ".py",
   "mimetype": "text/x-python",
   "name": "python",
   "nbconvert_exporter": "python",
   "pygments_lexer": "ipython3",
   "version": "3.6.5"
  },
  "varInspector": {
   "cols": {
    "lenName": 16,
    "lenType": 16,
    "lenVar": 40
   },
   "kernels_config": {
    "python": {
     "delete_cmd_postfix": "",
     "delete_cmd_prefix": "del ",
     "library": "var_list.py",
     "varRefreshCmd": "print(var_dic_list())"
    },
    "r": {
     "delete_cmd_postfix": ") ",
     "delete_cmd_prefix": "rm(",
     "library": "var_list.r",
     "varRefreshCmd": "cat(var_dic_list()) "
    }
   },
   "types_to_exclude": [
    "module",
    "function",
    "builtin_function_or_method",
    "instance",
    "_Feature"
   ],
   "window_display": true
  }
 },
 "nbformat": 4,
 "nbformat_minor": 2
}
