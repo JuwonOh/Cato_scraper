{
 "cells": [
  {
   "cell_type": "code",
   "execution_count": 1,
   "metadata": {
    "scrolled": false
   },
   "outputs": [
    {
     "name": "stdout",
     "output_type": "stream",
     "text": [
      "get briefing statement urls 0 / 3\n",
      "get briefing statement urls 1 / 3\n",
      "get briefing statement urls 2 / 3\n",
      "get briefing statement urls 3 / 3\n",
      "100 urls for all news\n"
     ]
    }
   ],
   "source": [
    "import time\n",
    "import Cato_scraper\n",
    "from Cato_scraper import get_allnews_urls\n",
    "from Cato_scraper import parse_page\n",
    "\n",
    "urls = get_allnews_urls(begin_page=0, end_page=3, verbose=True)\n",
    "print('%d urls for all news' % len(urls))\n"
   ]
  },
  {
   "cell_type": "code",
   "execution_count": 2,
   "metadata": {
    "scrolled": true
   },
   "outputs": [
    {
     "name": "stdout",
     "output_type": "stream",
     "text": [
      "url : https://www.cato.org/publications/research-briefs-economic-policy/taxation-innovation-20th-century ..\n",
      "title : Taxation and Innovation in the 20th Century ..\n",
      "date : February 6, 2019 ..\n",
      "author :  \n",
      "  Ufuk Akcigit, John Grigsby, Tom Nicholas, & Stefanie Stantchev ..\n",
      "content : \n",
      "Major reforms to the US tax code under the 2017 Tax Cuts and\n",
      "Jobs Act has renewed interest in the l ..\n",
      "\n",
      "\n",
      "url : https://www.cato.org/publications/public-opinion-brief/religious-trump-voters-how-faith-moderates-at ..\n",
      "title : Religious Trump Voters: How Faith Moderates Attitudes about Immigration, Race, and Identity ..\n",
      "date : February 5, 2019 ..\n",
      "author :  \n",
      "  Emily Ekin ..\n",
      "content : Increasing political polarization and rising conflict over\n",
      "identity, race relations, immigration, an ..\n",
      "\n",
      "\n",
      "url : https://www.cato.org/publications/immigration-research-policy-brief/immigrants-recognize-american-gr ..\n",
      "title : Immigrants Recognize American Greatness: Immigrants and Their Descendants Are Patriotic and Trust Am ..\n",
      "date : February 4, 2019 ..\n",
      "author :  \n",
      "  Alex Nowrasteh and Andrew Forreste ..\n",
      "content : \n",
      "The assimilation and integration of immigrants and their children into American society is vital to ..\n",
      "\n",
      "\n"
     ]
    }
   ],
   "source": [
    "def pprint(json_object):\n",
    "    for k, v in json_object.items():\n",
    "        print('{} : {} ..'.format(k, str(v)[:100]))\n",
    "    print('\\n')\n",
    "\n",
    "SLEEP = 0.5\n",
    "\n",
    "for url in urls[:3]:\n",
    "    json_object = parse_page(url) \n",
    "    pprint(json_object)\n"
   ]
  },
  {
   "cell_type": "code",
   "execution_count": 3,
   "metadata": {},
   "outputs": [],
   "source": [
    "from Cato_scraper import get_soup \n",
    "parse_page(urls[1]) \n",
    "soup = get_soup(urls[1])\n",
    "authors = [a for a in soup.find('div', class_='field-source-info') if '/public-opinion-brief/' in urls[1]]"
   ]
  },
  {
   "cell_type": "code",
   "execution_count": 5,
   "metadata": {
    "scrolled": true
   },
   "outputs": [
    {
     "name": "stdout",
     "output_type": "stream",
     "text": [
      "[1 / 10] (February 6, 2019) Taxation and Innovation in the 20th Century\n",
      "[2 / 10] (February 5, 2019) Religious Trump Voters: How Faith Moderates Attitudes about Immigration, Race, and Identity\n",
      "[3 / 10] (February 4, 2019) Immigrants Recognize American Greatness: Immigrants and Their Descendants Are Patriotic and Trust America’s Governing Institutions\n",
      "[4 / 10] (January 30, 2019) For Richer, for Poorer: Bankers’ Liability and Risk-Taking in New England, 1867–1880\n",
      "[5 / 10] (January 23, 2019) Temporary Protected Status and Immigration to the United States\n",
      "[6 / 10] (January 22, 2019) How ‘Market Failure’ Arguments Lead to Misguided Policy\n",
      "[7 / 10] (January 16, 2019) Do 40-Year-Old Facts Still Matter?: Long-Run Effects of Federal Oversight under the Voting Rights Act\n",
      "[8 / 10] (January 15, 2019) Do Immigrants Import Terrorism?\n",
      "[9 / 10] (January 15, 2019) The Myth of the Cyber Offense: The Case for Restraint\n",
      "[10 / 10] (January 9, 2019) More Legislation, More Violence? The Impact of Dodd-Frank in the Democratic Republic of the Congo\n"
     ]
    }
   ],
   "source": [
    "from Cato_scraper import yield_latest_allnews\n",
    "\n",
    "begin_date = '2018-07-01'\n",
    "max_num = 10\n",
    "sleep = 1.0\n",
    "\n",
    "for i, json_obj in enumerate(yield_latest_allnews(begin_date, max_num, sleep)):\n",
    "    title = json_obj['title']\n",
    "    time = json_obj['date']\n",
    "    print('[{} / {}] ({}) {}'.format(i+1, max_num, time, title))"
   ]
  },
  {
   "cell_type": "code",
   "execution_count": null,
   "metadata": {},
   "outputs": [],
   "source": []
  }
 ],
 "metadata": {
  "kernelspec": {
   "display_name": "Python 3",
   "language": "python",
   "name": "python3"
  },
  "language_info": {
   "codemirror_mode": {
    "name": "ipython",
    "version": 3
   },
   "file_extension": ".py",
   "mimetype": "text/x-python",
   "name": "python",
   "nbconvert_exporter": "python",
   "pygments_lexer": "ipython3",
   "version": "3.7.1"
  },
  "varInspector": {
   "cols": {
    "lenName": 16,
    "lenType": 16,
    "lenVar": 40
   },
   "kernels_config": {
    "python": {
     "delete_cmd_postfix": "",
     "delete_cmd_prefix": "del ",
     "library": "var_list.py",
     "varRefreshCmd": "print(var_dic_list())"
    },
    "r": {
     "delete_cmd_postfix": ") ",
     "delete_cmd_prefix": "rm(",
     "library": "var_list.r",
     "varRefreshCmd": "cat(var_dic_list()) "
    }
   },
   "types_to_exclude": [
    "module",
    "function",
    "builtin_function_or_method",
    "instance",
    "_Feature"
   ],
   "window_display": true
  }
 },
 "nbformat": 4,
 "nbformat_minor": 2
}
